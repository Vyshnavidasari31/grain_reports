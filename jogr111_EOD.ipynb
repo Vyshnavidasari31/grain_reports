{
 "cells": [
  {
   "cell_type": "code",
   "execution_count": 55,
   "metadata": {},
   "outputs": [],
   "source": [
    "import pandas as pd \n",
    "import re\n",
    "import requests\n",
    "import pickle"
   ]
  },
  {
   "cell_type": "code",
   "execution_count": 56,
   "metadata": {},
   "outputs": [],
   "source": [
    "data = requests.get('https://www.ams.usda.gov/mnreports/jo_gr111.txt').text\n",
    "data2 = data.split('\\r\\n')\n",
    "data2 = [x for x in data2 if x != '' ]\n",
    "data3 = ' '.join(x for x in data2)"
   ]
  },
  {
   "cell_type": "code",
   "execution_count": 57,
   "metadata": {},
   "outputs": [],
   "source": [
    "data4 = re.sub('\\s+',' ', data3)"
   ]
  },
  {
   "cell_type": "code",
   "execution_count": 58,
   "metadata": {},
   "outputs": [
    {
     "data": {
      "text/plain": [
       "['     ',\n",
       " '                              140.75 to 145.75  +K dn 2.25-up 2.75     ',\n",
       " '                              140.75 to 150.75  +K dn 2.25-up 2.75     ',\n",
       " '                              137.75 to 146.75  +N dn 2-up 2     ',\n",
       " '                              116.75 to 135.75  +N dn 3-up 2     ',\n",
       " '                              105.25 to 125.25  +U up 5.25-2   ',\n",
       " '     ',\n",
       " '                              140.75 to 145.75  +K dn 2.25-up 2.75     ',\n",
       " '                              140.75 to 145.75  +K dn 2.25-up 2.75     ',\n",
       " '                              137.75 to 141.75  +N dn 2-up 2     ',\n",
       " '                              116.75 to 126.75  +N dn 3-up 2     ',\n",
       " '                              105.25 to 115.25  +U up 2.25 ']"
      ]
     },
     "execution_count": 58,
     "metadata": {},
     "output_type": "execute_result"
    }
   ],
   "source": [
    "r = re.compile(r'(?=US 1).*?(?=_)',re.DOTALL)\n",
    "res = re.findall(r,data3)\n",
    "res2 = re.split(r'Ordinary protein',res[0])\n",
    "res3 = re.split(r'Guaranteed maximum 10.5 pct protein',res2[1])\n",
    "res3\n",
    "res4 = re.split(r'Jan...|Feb...|Mar...|Apr...|May...|Jun...|Jul...|Aug...|Sep...|Oct...|Nov...|Dec...',res3[0])\n",
    "res5  = re.split(r'Jan...|Feb...|Mar...|Apr...|May...|Jun...|Jul...|Aug...|Sep...|Oct...|Nov...|Dec...',res3[1])\n",
    "final = res4+res5\n",
    "final"
   ]
  },
  {
   "cell_type": "code",
   "execution_count": null,
   "metadata": {},
   "outputs": [],
   "source": []
  },
  {
   "cell_type": "code",
   "execution_count": null,
   "metadata": {},
   "outputs": [],
   "source": []
  },
  {
   "cell_type": "code",
   "execution_count": null,
   "metadata": {},
   "outputs": [],
   "source": []
  },
  {
   "cell_type": "code",
   "execution_count": null,
   "metadata": {},
   "outputs": [],
   "source": []
  },
  {
   "cell_type": "code",
   "execution_count": 59,
   "metadata": {},
   "outputs": [],
   "source": [
    "\n",
    "\n",
    "# crops_end= ['Louisiana Midday bids and basis for US 2 Soft Red Winter Wheat',\n",
    "#             'Louisiana Midday bids and basis for US 2 Yellow Corn',\n",
    "#             'Louisiana Midday bids and basis for US 1 Yellow Soybeans',\n",
    "#             'Louisiana Midday bids and basis for US 2 Yellow Sorghum',\n",
    "#             'Texas Midday bids and basis for US 1 Hard Red Winter Wheat',\n",
    "#             'Texas Midday bids and basis for US 2 Yellow Sorghum']\n",
    "\n",
    "\n",
    "# r = re.compile(r'_')\n",
    "# reports = re.split(r,data) #splits based on crop\n",
    "# reps = [x.split('\\n') for x in reports]\n",
    "\n",
    "# # months = ('Jan','Feb','Mar','Apr','May','Jun','Jul','Aug','Sep','Oct', 'Nov', 'Dec')\n",
    "# # for x in reps[:]:\n",
    "# #     for y in x[:]:\n",
    "# #         if not y.startswith(months): \n",
    "# #             x.remove(y)\n",
    "# # # reps[0] = [re.sub('\\s{2,}',',',x) for x in reps[0]]\n",
    "# reps[1] = [ x.split('\\r') for x in re.split('Bids',''.join(reps[1])) ]\n",
    "# reps"
   ]
  },
  {
   "cell_type": "code",
   "execution_count": 60,
   "metadata": {},
   "outputs": [],
   "source": [
    "# list1= []\n",
    "# a = re.compile(r'^\\w{,3}=')\n",
    "# for x in reps[:]:\n",
    "#     new = [ y for y in x if re.match(a,y) ]\n",
    "#     list1.append(new)\n",
    "# list1\n",
    "\n",
    "# crop_type = []\n",
    "# for n,x in enumerate(list1):\n",
    "#     for y in x:\n",
    "#         crop_type.append(crops_end[n])\n",
    "# crop_type # this give the right column for the data frame"
   ]
  },
  {
   "cell_type": "code",
   "execution_count": 61,
   "metadata": {},
   "outputs": [],
   "source": [
    "# list2 = [re.split(r'\\s{2,}',x) for x in list1[0]] # this works for creating data frmae and appending to list with name of cropppp\n",
    "\n",
    "\n",
    "\n",
    "# df2 = pd.DataFrame(list2, columns = ['month','Cash Bids', 'Change', 'Basis', 'Change'])\n",
    "# # df2['crop'] = crops_end[0]\n",
    "# # df2['date'] = pd.Timestamp.now()\n",
    "# # list3 = [[re.split(r'\\s{2,}',i) for i in x] for x in list1]\n",
    "# # list3\n",
    "# # list3 =  [item for sublist in list3 for item in sublist]\n",
    "# # df = pd.DataFrame(list3)\n",
    "# # df.columns = df.iloc[0,:]\n",
    "# # print(df.iloc[0,:].str)\n",
    "# #list3 = [re.split(r'\\s{2,}',x) for x in list1[0]] # this works for creating data frmae and appending to list with name of cropppp\n",
    "# list3= []\n",
    "# for x in list1:\n",
    "#     for y in x:\n",
    "#         list3.append(re.split(r'\\s{2,}',y)) \n",
    "        \n",
    "# df3= pd.DataFrame(list3,columns=df2.columns)\n",
    "# df3['crop'] = crop_type\n",
    "# df3['date'] = pd.Timestamp.now()\n",
    "# pickle.dump (df3,open('morningframe','wb'))"
   ]
  },
  {
   "cell_type": "code",
   "execution_count": 62,
   "metadata": {},
   "outputs": [],
   "source": [
    "# df3.iloc[11]"
   ]
  },
  {
   "cell_type": "code",
   "execution_count": null,
   "metadata": {},
   "outputs": [],
   "source": []
  },
  {
   "cell_type": "code",
   "execution_count": null,
   "metadata": {},
   "outputs": [],
   "source": []
  },
  {
   "cell_type": "code",
   "execution_count": null,
   "metadata": {},
   "outputs": [],
   "source": []
  },
  {
   "cell_type": "code",
   "execution_count": null,
   "metadata": {},
   "outputs": [],
   "source": []
  },
  {
   "cell_type": "code",
   "execution_count": null,
   "metadata": {},
   "outputs": [],
   "source": []
  },
  {
   "cell_type": "code",
   "execution_count": null,
   "metadata": {},
   "outputs": [],
   "source": []
  },
  {
   "cell_type": "code",
   "execution_count": null,
   "metadata": {},
   "outputs": [],
   "source": []
  },
  {
   "cell_type": "code",
   "execution_count": null,
   "metadata": {},
   "outputs": [],
   "source": []
  },
  {
   "cell_type": "code",
   "execution_count": null,
   "metadata": {},
   "outputs": [],
   "source": []
  },
  {
   "cell_type": "code",
   "execution_count": null,
   "metadata": {},
   "outputs": [],
   "source": []
  },
  {
   "cell_type": "code",
   "execution_count": null,
   "metadata": {},
   "outputs": [],
   "source": []
  },
  {
   "cell_type": "code",
   "execution_count": null,
   "metadata": {},
   "outputs": [],
   "source": []
  },
  {
   "cell_type": "code",
   "execution_count": null,
   "metadata": {},
   "outputs": [],
   "source": []
  },
  {
   "cell_type": "code",
   "execution_count": null,
   "metadata": {},
   "outputs": [],
   "source": []
  },
  {
   "cell_type": "code",
   "execution_count": null,
   "metadata": {},
   "outputs": [],
   "source": []
  },
  {
   "cell_type": "code",
   "execution_count": null,
   "metadata": {},
   "outputs": [],
   "source": []
  },
  {
   "cell_type": "code",
   "execution_count": null,
   "metadata": {},
   "outputs": [],
   "source": [
    "  "
   ]
  },
  {
   "cell_type": "code",
   "execution_count": null,
   "metadata": {},
   "outputs": [],
   "source": []
  },
  {
   "cell_type": "code",
   "execution_count": null,
   "metadata": {},
   "outputs": [],
   "source": []
  },
  {
   "cell_type": "code",
   "execution_count": null,
   "metadata": {},
   "outputs": [],
   "source": []
  },
  {
   "cell_type": "code",
   "execution_count": null,
   "metadata": {},
   "outputs": [],
   "source": []
  }
 ],
 "metadata": {
  "kernelspec": {
   "display_name": "Python 3",
   "language": "python",
   "name": "python3"
  },
  "language_info": {
   "codemirror_mode": {
    "name": "ipython",
    "version": 3
   },
   "file_extension": ".py",
   "mimetype": "text/x-python",
   "name": "python",
   "nbconvert_exporter": "python",
   "pygments_lexer": "ipython3",
   "version": "3.6.7"
  }
 },
 "nbformat": 4,
 "nbformat_minor": 2
}
