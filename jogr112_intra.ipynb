{
 "cells": [
  {
   "cell_type": "code",
   "execution_count": 1,
   "metadata": {},
   "outputs": [],
   "source": [
    "import pandas as pd \n",
    "import re\n",
    "import requests\n",
    "import pickle"
   ]
  },
  {
   "cell_type": "code",
   "execution_count": 2,
   "metadata": {},
   "outputs": [],
   "source": [
    "data = requests.get('https://www.ams.usda.gov/mnreports/jo_gr112.txt').text\n",
    "pickle.dump(data,open('intra.pickle','wb'))"
   ]
  },
  {
   "cell_type": "code",
   "execution_count": null,
   "metadata": {},
   "outputs": [],
   "source": []
  },
  {
   "cell_type": "code",
   "execution_count": 3,
   "metadata": {},
   "outputs": [],
   "source": [
    "data=pickle.load(open('intra.pickle','rb'))"
   ]
  },
  {
   "cell_type": "code",
   "execution_count": 4,
   "metadata": {},
   "outputs": [
    {
     "data": {
      "text/plain": [
       "[['',\n",
       "  'JO_GR112',\n",
       "  'Portland, OR    Mon  Mar 18, 2019    USDA Market News',\n",
       "  '',\n",
       "  'Louisiana and Texas Export Bids',\n",
       "  '',\n",
       "  'Gulf Export bids and basis for grain delivered to Gulf export elevators,',\n",
       "  'CIF barge to Louisiana Gulf (Mississippi River) and rail-truck Texas Gulf,',\n",
       "  'delivery periods as specified, dollars per bushel, except sorghum per cwt.',\n",
       "  'Bids as of 11:30 Central time; Subject to change.',\n",
       "  '',\n",
       "  '   In early trading bids were not fully established but were indicated as',\n",
       "  'follows for Louisiana:  soft red winter wheat lower, yellow corn lower,',\n",
       "  'soybeans were lower and yellow sorghum was not available. Texas cash bids',\n",
       "  'were lower for hard red winter wheat and lower for yellow sorghum.',\n",
       "  '',\n",
       "  '',\n",
       "  ''],\n",
       " ['',\n",
       "  'Cash Bids                           Basis',\n",
       "  'Mar=    5.4325-5.4825                +87K  to +92K',\n",
       "  'Apr=    5.4125-5.4225                +85K  to +86K',\n",
       "  'May=    5.3925-5.4225                +83K  to +86K',\n",
       "  'Jun=    5.2825-5.3125                +65N  to +68N',\n",
       "  'Jul=    5.2825-5.3125                +65N  to +68N',\n",
       "  'Aug=    NA                             NA',\n",
       "  '_',\n",
       "  ''],\n",
       " ['',\n",
       "  'Cash Bids                           Basis',\n",
       "  'Mar=    4.1775-4.2575                +47K  to +55K',\n",
       "  'Apr=    4.1675-4.2375                +46K  to +53K',\n",
       "  'May=    4.1675-4.2375                +46K  to +53K',\n",
       "  'Jun=    4.2500                       +45N',\n",
       "  'Jul=    4.2500                       +45N',\n",
       "  'Aug=    4.2975                       +43U',\n",
       "  '_',\n",
       "  ''],\n",
       " ['',\n",
       "  'Cash Bids                           Basis',\n",
       "  'Mar=    9.2325-9.5125                +21K  to +49K',\n",
       "  'Apr=    9.2125-9.4525                +19K  to +43K',\n",
       "  'May     9.2525-9.4525                +23K  to +43K',\n",
       "  'Jun=    9.3475-9.5475                +19N  to +39N',\n",
       "  'Jul=    9.3875-9.5475                +23N  to +39N',\n",
       "  'Aug=    NA                             NA',\n",
       "  '_',\n",
       "  ''],\n",
       " ['',\n",
       "  'Cash Bids                           Basis',\n",
       "  'Mar=    NA                             NA',\n",
       "  '_',\n",
       "  ''],\n",
       " ['',\n",
       "  'Cash Bids                           Basis',\n",
       "  'Mar=    5.4800-5.6600               +112K  to +130K',\n",
       "  '_',\n",
       "  ''],\n",
       " ['',\n",
       "  'Cash Bids                           Basis',\n",
       "  'Mar=    7.6925                       +60K',\n",
       "  'NC=     7.2175                       +10Z',\n",
       "  '_',\n",
       "  'Chicago and Kansas City Board of Trades month symbols: F January, G February,',\n",
       "  'H March, J April, K May, M June, N July, Q August, U September, V October,',\n",
       "  'X November, Z December',\n",
       "  '',\n",
       "  'NC = New Crop',\n",
       "  '',\n",
       "  'Monthly Average Prices for Feb 2019',\n",
       "  '                          Louisiana Texas',\n",
       "  'US 2 SRW Wheat            5.90      NA',\n",
       "  'US 1 HRW Wheat            NA        5.95',\n",
       "  'US 2 Yellow Corn          4.31      NA',\n",
       "  'US 1 Yellow Soybeans      9.42      NA',\n",
       "  'US 2 Yellow Sorghum       NA        7.73',\n",
       "  '',\n",
       "  'Source: USDA Market News Service, Portland, OR',\n",
       "  '        Niki Davila 503-535-5001  Portland.LPGMN@ams.usda.gov',\n",
       "  '        www.ams.usda.gov/mnreports/jo_gr112.txt',\n",
       "  '        www.ams.usda.gov/lpsmarketnewspage',\n",
       "  '',\n",
       "  '8:47    nd',\n",
       "  '']]"
      ]
     },
     "execution_count": 4,
     "metadata": {},
     "output_type": "execute_result"
    }
   ],
   "source": [
    "crops = [ 'Louisiana Morning bids and basis for US 2 Soft Red Winter Wheat',\n",
    "         'Louisiana Morning bids and basis for US 2 Yellow Corn',\n",
    "         'Louisiana Morning bids and basis for US 1 Yellow Soybeans',\n",
    "         'Louisiana Morning bids and basis for US 2 Yellow Sorghum', \n",
    "         'Texas Morning bids and basis for US 1 Hard Red Winter Wheat', \n",
    "         'Texas Morning bids and basis for US 2 Yellow Sorghum']\n",
    "\n",
    "\n",
    "\n",
    "r = re.compile(r'|'.join(crops))\n",
    "reports = re.split(r,data) #splits based on crop\n",
    "reps = [x.split('\\r\\n') for x in reports]\n",
    "reps\n",
    "# months = ('Jan','Feb','Mar','Apr','May','Jun','Jul','Aug','Sep','Oct', 'Nov', 'Dec') #months to search text by\n",
    "reps"
   ]
  },
  {
   "cell_type": "code",
   "execution_count": 5,
   "metadata": {},
   "outputs": [],
   "source": [
    "list1= []\n",
    "a = re.compile(r'^\\w{,3}=')\n",
    "for x in reps[:]:\n",
    "    new = [ y for y in x if re.match(a,y) ]\n",
    "    list1.append(new)\n",
    "list1\n",
    "\n",
    "def get_crop_type():\n",
    "    \n",
    "    '''This funciton gets the length of each section of parsed data, number of entries per crop type and creates a list\n",
    "       that corresponds with the name of the crop for each entry to be used in normalizing the dataframe\n",
    "    '''\n",
    "    crop_count = []\n",
    "    for item in list1:\n",
    "        if item  !=[]:\n",
    "            crop_count.append(len(item))\n",
    "    crops_list = []\n",
    "    for x in range(len(crop_count)):\n",
    "        crops_list.append( [crops[x] for crop in range(0,crop_count[x])])\n",
    "\n",
    "    crop_list_final = [item for sublist in crops_list for item in sublist]\n",
    "    return crop_list_final\n",
    "\n",
    "\n",
    "crop_type = get_crop_type()\n",
    "\n",
    "\n"
   ]
  },
  {
   "cell_type": "code",
   "execution_count": 6,
   "metadata": {},
   "outputs": [
    {
     "data": {
      "text/plain": [
       "[['Mar=', '5.4325-5.4825', '+87K', 'to +92K'],\n",
       " ['Apr=', '5.4125-5.4225', '+85K', 'to +86K'],\n",
       " ['May=', '5.3925-5.4225', '+83K', 'to +86K'],\n",
       " ['Jun=', '5.2825-5.3125', '+65N', 'to +68N'],\n",
       " ['Jul=', '5.2825-5.3125', '+65N', 'to +68N'],\n",
       " ['Aug=', 'NA', 'NA'],\n",
       " ['Mar=', '4.1775-4.2575', '+47K', 'to +55K'],\n",
       " ['Apr=', '4.1675-4.2375', '+46K', 'to +53K'],\n",
       " ['May=', '4.1675-4.2375', '+46K', 'to +53K'],\n",
       " ['Jun=', '4.2500', '+45N'],\n",
       " ['Jul=', '4.2500', '+45N'],\n",
       " ['Aug=', '4.2975', '+43U'],\n",
       " ['Mar=', '9.2325-9.5125', '+21K', 'to +49K'],\n",
       " ['Apr=', '9.2125-9.4525', '+19K', 'to +43K'],\n",
       " ['Jun=', '9.3475-9.5475', '+19N', 'to +39N'],\n",
       " ['Jul=', '9.3875-9.5475', '+23N', 'to +39N'],\n",
       " ['Aug=', 'NA', 'NA'],\n",
       " ['Mar=', 'NA', 'NA'],\n",
       " ['Mar=', '5.4800-5.6600', '+112K', 'to +130K'],\n",
       " ['Mar=', '7.6925', '+60K'],\n",
       " ['NC=', '7.2175', '+10Z']]"
      ]
     },
     "execution_count": 6,
     "metadata": {},
     "output_type": "execute_result"
    }
   ],
   "source": [
    "list3= []\n",
    "for x in list1:\n",
    "    for y in x:\n",
    "        list3.append(re.split(r'\\s{2,}',y)) \n",
    "list3"
   ]
  },
  {
   "cell_type": "code",
   "execution_count": 7,
   "metadata": {},
   "outputs": [],
   "source": [
    "  \n",
    "try:\n",
    "    \n",
    "    df3 = pd.DataFrame(list3, columns = ['Month','Cash_Bids', 'Basis1_og'])\n",
    "\n",
    "except AssertionError:\n",
    "    df3 = pd.DataFrame(list3,columns= ['Month','Cash_Bids', 'Basis1_og','Basis2_og'])\n",
    "    # look for better regex to remove to and +-\n",
    "    df3['Basis1_1'] = df3['Basis1_og'].str.strip('to +-').str[:-1]\n",
    "    df3['Basis1_2'] = df3['Basis2_og'].str.strip('to +-').str[:-1]\n",
    "    \n",
    "    \n",
    "df3['Crop'] = crop_type\n",
    "df3['Date'] = pd.Timestamp.now()\n",
    "df3['Cash_Bids_1'] = df3['Cash_Bids'].str.split('-', expand=True)[0]\n",
    "df3['Cash_Bids_2'] = df3['Cash_Bids'].str.split('-', expand=True)[1]\n",
    "df3['Contract'] = df3['Basis1_og'].str.replace('\\d','') # fix here for no comp error-- need a regex that finds only word chars and fill with something \n",
    "\n",
    "df3['Month'] = df3['Month'].str.strip('=')"
   ]
  },
  {
   "cell_type": "code",
   "execution_count": 8,
   "metadata": {},
   "outputs": [],
   "source": [
    "intra = df3[['Month','Cash_Bids_1','Cash_Bids_2','Basis1_1','Basis1_2','Contract','Crop','Date']]\n",
    "intra = intra.fillna('NA')\n",
    "intra = intra.replace('N', 'NA')\n"
   ]
  },
  {
   "cell_type": "code",
   "execution_count": 9,
   "metadata": {},
   "outputs": [
    {
     "data": {
      "text/html": [
       "<div>\n",
       "<style scoped>\n",
       "    .dataframe tbody tr th:only-of-type {\n",
       "        vertical-align: middle;\n",
       "    }\n",
       "\n",
       "    .dataframe tbody tr th {\n",
       "        vertical-align: top;\n",
       "    }\n",
       "\n",
       "    .dataframe thead th {\n",
       "        text-align: right;\n",
       "    }\n",
       "</style>\n",
       "<table border=\"1\" class=\"dataframe\">\n",
       "  <thead>\n",
       "    <tr style=\"text-align: right;\">\n",
       "      <th></th>\n",
       "      <th>Month</th>\n",
       "      <th>Cash_Bids_1</th>\n",
       "      <th>Cash_Bids_2</th>\n",
       "      <th>Basis1_1</th>\n",
       "      <th>Basis1_2</th>\n",
       "      <th>Contract</th>\n",
       "      <th>Crop</th>\n",
       "      <th>Date</th>\n",
       "    </tr>\n",
       "  </thead>\n",
       "  <tbody>\n",
       "    <tr>\n",
       "      <th>0</th>\n",
       "      <td>Mar</td>\n",
       "      <td>5.4325</td>\n",
       "      <td>5.4825</td>\n",
       "      <td>87</td>\n",
       "      <td>92</td>\n",
       "      <td>+K</td>\n",
       "      <td>Louisiana Morning bids and basis for US 2 Soft...</td>\n",
       "      <td>2019-03-18 12:42:18.821440</td>\n",
       "    </tr>\n",
       "    <tr>\n",
       "      <th>1</th>\n",
       "      <td>Apr</td>\n",
       "      <td>5.4125</td>\n",
       "      <td>5.4225</td>\n",
       "      <td>85</td>\n",
       "      <td>86</td>\n",
       "      <td>+K</td>\n",
       "      <td>Louisiana Morning bids and basis for US 2 Soft...</td>\n",
       "      <td>2019-03-18 12:42:18.821440</td>\n",
       "    </tr>\n",
       "    <tr>\n",
       "      <th>2</th>\n",
       "      <td>May</td>\n",
       "      <td>5.3925</td>\n",
       "      <td>5.4225</td>\n",
       "      <td>83</td>\n",
       "      <td>86</td>\n",
       "      <td>+K</td>\n",
       "      <td>Louisiana Morning bids and basis for US 2 Soft...</td>\n",
       "      <td>2019-03-18 12:42:18.821440</td>\n",
       "    </tr>\n",
       "    <tr>\n",
       "      <th>3</th>\n",
       "      <td>Jun</td>\n",
       "      <td>5.2825</td>\n",
       "      <td>5.3125</td>\n",
       "      <td>65</td>\n",
       "      <td>68</td>\n",
       "      <td>+N</td>\n",
       "      <td>Louisiana Morning bids and basis for US 2 Soft...</td>\n",
       "      <td>2019-03-18 12:42:18.821440</td>\n",
       "    </tr>\n",
       "    <tr>\n",
       "      <th>4</th>\n",
       "      <td>Jul</td>\n",
       "      <td>5.2825</td>\n",
       "      <td>5.3125</td>\n",
       "      <td>65</td>\n",
       "      <td>68</td>\n",
       "      <td>+N</td>\n",
       "      <td>Louisiana Morning bids and basis for US 2 Soft...</td>\n",
       "      <td>2019-03-18 12:42:18.821440</td>\n",
       "    </tr>\n",
       "  </tbody>\n",
       "</table>\n",
       "</div>"
      ],
      "text/plain": [
       "  Month Cash_Bids_1 Cash_Bids_2 Basis1_1 Basis1_2 Contract  \\\n",
       "0   Mar      5.4325      5.4825       87       92       +K   \n",
       "1   Apr      5.4125      5.4225       85       86       +K   \n",
       "2   May      5.3925      5.4225       83       86       +K   \n",
       "3   Jun      5.2825      5.3125       65       68       +N   \n",
       "4   Jul      5.2825      5.3125       65       68       +N   \n",
       "\n",
       "                                                Crop  \\\n",
       "0  Louisiana Morning bids and basis for US 2 Soft...   \n",
       "1  Louisiana Morning bids and basis for US 2 Soft...   \n",
       "2  Louisiana Morning bids and basis for US 2 Soft...   \n",
       "3  Louisiana Morning bids and basis for US 2 Soft...   \n",
       "4  Louisiana Morning bids and basis for US 2 Soft...   \n",
       "\n",
       "                        Date  \n",
       "0 2019-03-18 12:42:18.821440  \n",
       "1 2019-03-18 12:42:18.821440  \n",
       "2 2019-03-18 12:42:18.821440  \n",
       "3 2019-03-18 12:42:18.821440  \n",
       "4 2019-03-18 12:42:18.821440  "
      ]
     },
     "execution_count": 9,
     "metadata": {},
     "output_type": "execute_result"
    }
   ],
   "source": [
    "intra.head()"
   ]
  },
  {
   "cell_type": "code",
   "execution_count": 10,
   "metadata": {},
   "outputs": [],
   "source": [
    "pickle.dump(intra, open('jogr112_intraday_frame','wb'))"
   ]
  },
  {
   "cell_type": "code",
   "execution_count": null,
   "metadata": {},
   "outputs": [],
   "source": []
  },
  {
   "cell_type": "code",
   "execution_count": null,
   "metadata": {},
   "outputs": [],
   "source": []
  },
  {
   "cell_type": "code",
   "execution_count": null,
   "metadata": {},
   "outputs": [],
   "source": []
  },
  {
   "cell_type": "code",
   "execution_count": null,
   "metadata": {},
   "outputs": [],
   "source": []
  },
  {
   "cell_type": "code",
   "execution_count": null,
   "metadata": {},
   "outputs": [],
   "source": []
  },
  {
   "cell_type": "code",
   "execution_count": null,
   "metadata": {},
   "outputs": [],
   "source": []
  },
  {
   "cell_type": "code",
   "execution_count": null,
   "metadata": {},
   "outputs": [],
   "source": []
  },
  {
   "cell_type": "code",
   "execution_count": null,
   "metadata": {},
   "outputs": [],
   "source": []
  },
  {
   "cell_type": "code",
   "execution_count": null,
   "metadata": {},
   "outputs": [],
   "source": []
  },
  {
   "cell_type": "code",
   "execution_count": null,
   "metadata": {},
   "outputs": [],
   "source": []
  },
  {
   "cell_type": "code",
   "execution_count": null,
   "metadata": {},
   "outputs": [],
   "source": []
  },
  {
   "cell_type": "code",
   "execution_count": null,
   "metadata": {},
   "outputs": [],
   "source": []
  },
  {
   "cell_type": "code",
   "execution_count": null,
   "metadata": {},
   "outputs": [],
   "source": []
  },
  {
   "cell_type": "code",
   "execution_count": null,
   "metadata": {},
   "outputs": [],
   "source": [
    "  "
   ]
  },
  {
   "cell_type": "code",
   "execution_count": null,
   "metadata": {},
   "outputs": [],
   "source": []
  },
  {
   "cell_type": "code",
   "execution_count": null,
   "metadata": {},
   "outputs": [],
   "source": []
  },
  {
   "cell_type": "code",
   "execution_count": null,
   "metadata": {},
   "outputs": [],
   "source": []
  },
  {
   "cell_type": "code",
   "execution_count": null,
   "metadata": {},
   "outputs": [],
   "source": []
  }
 ],
 "metadata": {
  "kernelspec": {
   "display_name": "Python 3",
   "language": "python",
   "name": "python3"
  },
  "language_info": {
   "codemirror_mode": {
    "name": "ipython",
    "version": 3
   },
   "file_extension": ".py",
   "mimetype": "text/x-python",
   "name": "python",
   "nbconvert_exporter": "python",
   "pygments_lexer": "ipython3",
   "version": "3.6.7"
  }
 },
 "nbformat": 4,
 "nbformat_minor": 2
}
