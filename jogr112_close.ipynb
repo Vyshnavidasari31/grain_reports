{
 "cells": [
  {
   "cell_type": "code",
   "execution_count": 1,
   "metadata": {},
   "outputs": [],
   "source": [
    "import pandas as pd \n",
    "import re\n",
    "import requests\n",
    "import pickle"
   ]
  },
  {
   "cell_type": "code",
   "execution_count": 2,
   "metadata": {},
   "outputs": [],
   "source": [
    "data = requests.get('https://www.ams.usda.gov/mnreports/jo_gr112.txt').text\n",
    "pickle.dump(data,open('close_315.pickle','wb'))\n",
    "# data2 = data.split('\\r\\n')\n",
    "# data2\n",
    "data = pickle.load(open('close.pickle','rb'))\n"
   ]
  },
  {
   "cell_type": "code",
   "execution_count": 3,
   "metadata": {},
   "outputs": [
    {
     "data": {
      "text/plain": [
       "[['',\n",
       "  'JO_GR112',\n",
       "  'Portland, OR    Mon  Mar 18, 2019    USDA Market News',\n",
       "  '',\n",
       "  'Louisiana and Texas Export Bids',\n",
       "  '',\n",
       "  'Gulf Export bids and basis for grain delivered to Gulf export elevators,',\n",
       "  'CIF barge to Louisiana Gulf (Mississippi River) and rail-truck Texas Gulf,',\n",
       "  'delivery periods as specified, dollars per bushel, except sorghum per cwt.',\n",
       "  'Bids as of 11:30 Central time; Subject to change.',\n",
       "  '',\n",
       "  '   In early trading bids were not fully established but were indicated as',\n",
       "  'follows for Louisiana:  soft red winter wheat lower, yellow corn lower,',\n",
       "  'soybeans were lower and yellow sorghum was not available. Texas cash bids',\n",
       "  'were lower for hard red winter wheat and lower for yellow sorghum.',\n",
       "  '',\n",
       "  '',\n",
       "  'Louisiana Morning bids and basis for US 2 Soft Red Winter Wheat',\n",
       "  'Cash Bids                           Basis',\n",
       "  'Mar=    5.4325-5.4825                +87K  to +92K',\n",
       "  'Apr=    5.4125-5.4225                +85K  to +86K',\n",
       "  'May=    5.3925-5.4225                +83K  to +86K',\n",
       "  'Jun=    5.2825-5.3125                +65N  to +68N',\n",
       "  'Jul=    5.2825-5.3125                +65N  to +68N',\n",
       "  'Aug=    NA                             NA',\n",
       "  '_',\n",
       "  'Louisiana Morning bids and basis for US 2 Yellow Corn',\n",
       "  'Cash Bids                           Basis',\n",
       "  'Mar=    4.1775-4.2575                +47K  to +55K',\n",
       "  'Apr=    4.1675-4.2375                +46K  to +53K',\n",
       "  'May=    4.1675-4.2375                +46K  to +53K',\n",
       "  'Jun=    4.2500                       +45N',\n",
       "  'Jul=    4.2500                       +45N',\n",
       "  'Aug=    4.2975                       +43U',\n",
       "  '_',\n",
       "  'Louisiana Morning bids and basis for US 1 Yellow Soybeans',\n",
       "  'Cash Bids                           Basis',\n",
       "  'Mar=    9.2325-9.5125                +21K  to +49K',\n",
       "  'Apr=    9.2125-9.4525                +19K  to +43K',\n",
       "  'May     9.2525-9.4525                +23K  to +43K',\n",
       "  'Jun=    9.3475-9.5475                +19N  to +39N',\n",
       "  'Jul=    9.3875-9.5475                +23N  to +39N',\n",
       "  'Aug=    NA                             NA',\n",
       "  '_',\n",
       "  'Louisiana Morning bids and basis for US 2 Yellow Sorghum',\n",
       "  'Cash Bids                           Basis',\n",
       "  'Mar=    NA                             NA',\n",
       "  '_',\n",
       "  'Texas Morning bids and basis for US 1 Hard Red Winter Wheat',\n",
       "  'Cash Bids                           Basis',\n",
       "  'Mar=    5.4800-5.6600               +112K  to +130K',\n",
       "  '_',\n",
       "  'Texas Morning bids and basis for US 2 Yellow Sorghum',\n",
       "  'Cash Bids                           Basis',\n",
       "  'Mar=    7.6925                       +60K',\n",
       "  'NC=     7.2175                       +10Z',\n",
       "  '_',\n",
       "  'Chicago and Kansas City Board of Trades month symbols: F January, G February,',\n",
       "  'H March, J April, K May, M June, N July, Q August, U September, V October,',\n",
       "  'X November, Z December',\n",
       "  '',\n",
       "  'NC = New Crop',\n",
       "  '',\n",
       "  'Monthly Average Prices for Feb 2019',\n",
       "  '                          Louisiana Texas',\n",
       "  'US 2 SRW Wheat            5.90      NA',\n",
       "  'US 1 HRW Wheat            NA        5.95',\n",
       "  'US 2 Yellow Corn          4.31      NA',\n",
       "  'US 1 Yellow Soybeans      9.42      NA',\n",
       "  'US 2 Yellow Sorghum       NA        7.73',\n",
       "  '',\n",
       "  'Source: USDA Market News Service, Portland, OR',\n",
       "  '        Niki Davila 503-535-5001  Portland.LPGMN@ams.usda.gov',\n",
       "  '        www.ams.usda.gov/mnreports/jo_gr112.txt',\n",
       "  '        www.ams.usda.gov/lpsmarketnewspage',\n",
       "  '',\n",
       "  '8:47    nd',\n",
       "  '']]"
      ]
     },
     "execution_count": 3,
     "metadata": {},
     "output_type": "execute_result"
    }
   ],
   "source": [
    "# res = re.findall(r'(^\\w{3}=.$)',data,re.MULTILINE)\n",
    "# res\n",
    "crops= [    \n",
    "            'Louisiana Midday bids and basis for US 2 Soft Red Winter Wheat',\n",
    "            'Louisiana Midday bids and basis for US 2 Yellow Corn',\n",
    "            'Louisiana Midday bids and basis for US 1 Yellow Soybeans',\n",
    "            'Louisiana Midday bids and basis for US 2 Yellow Sorghum',\n",
    "            'Texas Midday bids and basis for US 1 Hard Red Winter Wheat',\n",
    "            'Texas Midday bids and basis for US 2 Yellow Sorghum'\n",
    "       ]\n",
    "\n",
    "\n",
    "r = re.compile(r'|'.join(crops))\n",
    "reports = re.split(r,data) #splits based on crop\n",
    "reps = [x.split('\\r\\n') for x in reports]\n",
    "\n",
    "\n",
    "reps\n",
    "\n"
   ]
  },
  {
   "cell_type": "code",
   "execution_count": 4,
   "metadata": {},
   "outputs": [
    {
     "data": {
      "text/plain": [
       "[['Mar=    5.4325-5.4825                +87K  to +92K',\n",
       "  'Apr=    5.4125-5.4225                +85K  to +86K',\n",
       "  'May=    5.3925-5.4225                +83K  to +86K',\n",
       "  'Jun=    5.2825-5.3125                +65N  to +68N',\n",
       "  'Jul=    5.2825-5.3125                +65N  to +68N',\n",
       "  'Aug=    NA                             NA',\n",
       "  'Mar=    4.1775-4.2575                +47K  to +55K',\n",
       "  'Apr=    4.1675-4.2375                +46K  to +53K',\n",
       "  'May=    4.1675-4.2375                +46K  to +53K',\n",
       "  'Jun=    4.2500                       +45N',\n",
       "  'Jul=    4.2500                       +45N',\n",
       "  'Aug=    4.2975                       +43U',\n",
       "  'Mar=    9.2325-9.5125                +21K  to +49K',\n",
       "  'Apr=    9.2125-9.4525                +19K  to +43K',\n",
       "  'Jun=    9.3475-9.5475                +19N  to +39N',\n",
       "  'Jul=    9.3875-9.5475                +23N  to +39N',\n",
       "  'Aug=    NA                             NA',\n",
       "  'Mar=    NA                             NA',\n",
       "  'Mar=    5.4800-5.6600               +112K  to +130K',\n",
       "  'Mar=    7.6925                       +60K',\n",
       "  'NC=     7.2175                       +10Z']]"
      ]
     },
     "execution_count": 4,
     "metadata": {},
     "output_type": "execute_result"
    }
   ],
   "source": [
    "list1= []\n",
    "\n",
    "a = re.compile(r'^\\w{,3}=')\n",
    "\n",
    "for x in reps[:]:\n",
    "    new = [ y for y in x if re.match(a,y) ]\n",
    "    list1.append(new)\n"
   ]
  },
  {
   "cell_type": "code",
   "execution_count": 5,
   "metadata": {},
   "outputs": [],
   "source": [
    "def get_crop_type():\n",
    "    crop_count = []\n",
    "    for item in list1:\n",
    "        if item  !=[]:\n",
    "            crop_count.append(len(item))\n",
    "    crops_list = []\n",
    "    for x in range(len(crop_count)):\n",
    "        crops_list.append( [crops[x] for crop in range(0,crop_count[x])])\n",
    "\n",
    "    crop_list_final = [item for sublist in crops_list for item in sublist]\n",
    "    return crop_list_final\n",
    "\n",
    "\n",
    "crop_type = get_crop_type() # this give the right column for the data frame"
   ]
  },
  {
   "cell_type": "code",
   "execution_count": 6,
   "metadata": {},
   "outputs": [],
   "source": [
    "list3= []\n",
    "for x in list1:\n",
    "    for y in x:\n",
    "        list3.append(re.split(r'\\s{2,}',y)) \n"
   ]
  },
  {
   "cell_type": "code",
   "execution_count": 7,
   "metadata": {},
   "outputs": [
    {
     "ename": "AssertionError",
     "evalue": "5 columns passed, passed data had 4 columns",
     "output_type": "error",
     "traceback": [
      "\u001b[0;31m---------------------------------------------------------------------------\u001b[0m",
      "\u001b[0;31mAssertionError\u001b[0m                            Traceback (most recent call last)",
      "\u001b[0;32m<ipython-input-7-d230566609c0>\u001b[0m in \u001b[0;36m<module>\u001b[0;34m\u001b[0m\n\u001b[1;32m      1\u001b[0m \u001b[0;31m# cash bids     change   basis     change\u001b[0m\u001b[0;34m\u001b[0m\u001b[0;34m\u001b[0m\u001b[0;34m\u001b[0m\u001b[0m\n\u001b[0;32m----> 2\u001b[0;31m \u001b[0mdf3\u001b[0m\u001b[0;34m=\u001b[0m \u001b[0mpd\u001b[0m\u001b[0;34m.\u001b[0m\u001b[0mDataFrame\u001b[0m\u001b[0;34m(\u001b[0m\u001b[0mlist3\u001b[0m\u001b[0;34m,\u001b[0m\u001b[0mcolumns\u001b[0m\u001b[0;34m=\u001b[0m\u001b[0;34m[\u001b[0m\u001b[0;34m'Month'\u001b[0m\u001b[0;34m,\u001b[0m\u001b[0;34m'Cash_Bids'\u001b[0m\u001b[0;34m,\u001b[0m \u001b[0;34m'Change1'\u001b[0m\u001b[0;34m,\u001b[0m \u001b[0;34m'Basis1_og'\u001b[0m\u001b[0;34m,\u001b[0m \u001b[0;34m'Change2'\u001b[0m\u001b[0;34m]\u001b[0m\u001b[0;34m)\u001b[0m\u001b[0;34m\u001b[0m\u001b[0;34m\u001b[0m\u001b[0m\n\u001b[0m\u001b[1;32m      3\u001b[0m \u001b[0;34m\u001b[0m\u001b[0m\n\u001b[1;32m      4\u001b[0m \u001b[0;34m\u001b[0m\u001b[0m\n\u001b[1;32m      5\u001b[0m \u001b[0;32mtry\u001b[0m\u001b[0;34m:\u001b[0m\u001b[0;34m\u001b[0m\u001b[0;34m\u001b[0m\u001b[0m\n",
      "\u001b[0;32m~/Envs/intern/lib/python3.6/site-packages/pandas/core/frame.py\u001b[0m in \u001b[0;36m__init__\u001b[0;34m(self, data, index, columns, dtype, copy)\u001b[0m\n\u001b[1;32m    433\u001b[0m                     \u001b[0;32mif\u001b[0m \u001b[0mis_named_tuple\u001b[0m\u001b[0;34m(\u001b[0m\u001b[0mdata\u001b[0m\u001b[0;34m[\u001b[0m\u001b[0;36m0\u001b[0m\u001b[0;34m]\u001b[0m\u001b[0;34m)\u001b[0m \u001b[0;32mand\u001b[0m \u001b[0mcolumns\u001b[0m \u001b[0;32mis\u001b[0m \u001b[0;32mNone\u001b[0m\u001b[0;34m:\u001b[0m\u001b[0;34m\u001b[0m\u001b[0;34m\u001b[0m\u001b[0m\n\u001b[1;32m    434\u001b[0m                         \u001b[0mcolumns\u001b[0m \u001b[0;34m=\u001b[0m \u001b[0mdata\u001b[0m\u001b[0;34m[\u001b[0m\u001b[0;36m0\u001b[0m\u001b[0;34m]\u001b[0m\u001b[0;34m.\u001b[0m\u001b[0m_fields\u001b[0m\u001b[0;34m\u001b[0m\u001b[0;34m\u001b[0m\u001b[0m\n\u001b[0;32m--> 435\u001b[0;31m                     \u001b[0marrays\u001b[0m\u001b[0;34m,\u001b[0m \u001b[0mcolumns\u001b[0m \u001b[0;34m=\u001b[0m \u001b[0mto_arrays\u001b[0m\u001b[0;34m(\u001b[0m\u001b[0mdata\u001b[0m\u001b[0;34m,\u001b[0m \u001b[0mcolumns\u001b[0m\u001b[0;34m,\u001b[0m \u001b[0mdtype\u001b[0m\u001b[0;34m=\u001b[0m\u001b[0mdtype\u001b[0m\u001b[0;34m)\u001b[0m\u001b[0;34m\u001b[0m\u001b[0;34m\u001b[0m\u001b[0m\n\u001b[0m\u001b[1;32m    436\u001b[0m                     \u001b[0mcolumns\u001b[0m \u001b[0;34m=\u001b[0m \u001b[0mensure_index\u001b[0m\u001b[0;34m(\u001b[0m\u001b[0mcolumns\u001b[0m\u001b[0;34m)\u001b[0m\u001b[0;34m\u001b[0m\u001b[0;34m\u001b[0m\u001b[0m\n\u001b[1;32m    437\u001b[0m \u001b[0;34m\u001b[0m\u001b[0m\n",
      "\u001b[0;32m~/Envs/intern/lib/python3.6/site-packages/pandas/core/internals/construction.py\u001b[0m in \u001b[0;36mto_arrays\u001b[0;34m(data, columns, coerce_float, dtype)\u001b[0m\n\u001b[1;32m    402\u001b[0m     \u001b[0;32mif\u001b[0m \u001b[0misinstance\u001b[0m\u001b[0;34m(\u001b[0m\u001b[0mdata\u001b[0m\u001b[0;34m[\u001b[0m\u001b[0;36m0\u001b[0m\u001b[0;34m]\u001b[0m\u001b[0;34m,\u001b[0m \u001b[0;34m(\u001b[0m\u001b[0mlist\u001b[0m\u001b[0;34m,\u001b[0m \u001b[0mtuple\u001b[0m\u001b[0;34m)\u001b[0m\u001b[0;34m)\u001b[0m\u001b[0;34m:\u001b[0m\u001b[0;34m\u001b[0m\u001b[0;34m\u001b[0m\u001b[0m\n\u001b[1;32m    403\u001b[0m         return _list_to_arrays(data, columns, coerce_float=coerce_float,\n\u001b[0;32m--> 404\u001b[0;31m                                dtype=dtype)\n\u001b[0m\u001b[1;32m    405\u001b[0m     \u001b[0;32melif\u001b[0m \u001b[0misinstance\u001b[0m\u001b[0;34m(\u001b[0m\u001b[0mdata\u001b[0m\u001b[0;34m[\u001b[0m\u001b[0;36m0\u001b[0m\u001b[0;34m]\u001b[0m\u001b[0;34m,\u001b[0m \u001b[0mcompat\u001b[0m\u001b[0;34m.\u001b[0m\u001b[0mMapping\u001b[0m\u001b[0;34m)\u001b[0m\u001b[0;34m:\u001b[0m\u001b[0;34m\u001b[0m\u001b[0;34m\u001b[0m\u001b[0m\n\u001b[1;32m    406\u001b[0m         return _list_of_dict_to_arrays(data, columns,\n",
      "\u001b[0;32m~/Envs/intern/lib/python3.6/site-packages/pandas/core/internals/construction.py\u001b[0m in \u001b[0;36m_list_to_arrays\u001b[0;34m(data, columns, coerce_float, dtype)\u001b[0m\n\u001b[1;32m    434\u001b[0m         \u001b[0mcontent\u001b[0m \u001b[0;34m=\u001b[0m \u001b[0mlist\u001b[0m\u001b[0;34m(\u001b[0m\u001b[0mlib\u001b[0m\u001b[0;34m.\u001b[0m\u001b[0mto_object_array\u001b[0m\u001b[0;34m(\u001b[0m\u001b[0mdata\u001b[0m\u001b[0;34m)\u001b[0m\u001b[0;34m.\u001b[0m\u001b[0mT\u001b[0m\u001b[0;34m)\u001b[0m\u001b[0;34m\u001b[0m\u001b[0;34m\u001b[0m\u001b[0m\n\u001b[1;32m    435\u001b[0m     return _convert_object_array(content, columns, dtype=dtype,\n\u001b[0;32m--> 436\u001b[0;31m                                  coerce_float=coerce_float)\n\u001b[0m\u001b[1;32m    437\u001b[0m \u001b[0;34m\u001b[0m\u001b[0m\n\u001b[1;32m    438\u001b[0m \u001b[0;34m\u001b[0m\u001b[0m\n",
      "\u001b[0;32m~/Envs/intern/lib/python3.6/site-packages/pandas/core/internals/construction.py\u001b[0m in \u001b[0;36m_convert_object_array\u001b[0;34m(content, columns, coerce_float, dtype)\u001b[0m\n\u001b[1;32m    490\u001b[0m             raise AssertionError('{col:d} columns passed, passed data had '\n\u001b[1;32m    491\u001b[0m                                  '{con} columns'.format(col=len(columns),\n\u001b[0;32m--> 492\u001b[0;31m                                                         con=len(content)))\n\u001b[0m\u001b[1;32m    493\u001b[0m \u001b[0;34m\u001b[0m\u001b[0m\n\u001b[1;32m    494\u001b[0m     \u001b[0;31m# provide soft conversion of object dtypes\u001b[0m\u001b[0;34m\u001b[0m\u001b[0;34m\u001b[0m\u001b[0;34m\u001b[0m\u001b[0m\n",
      "\u001b[0;31mAssertionError\u001b[0m: 5 columns passed, passed data had 4 columns"
     ]
    }
   ],
   "source": [
    "# cash bids     change   basis     change     \n",
    "df3= pd.DataFrame(list3,columns=['Month','Cash_Bids', 'Change1', 'Basis1_og', 'Change2'])\n",
    "\n",
    "\n",
    "try:\n",
    "    df3['Basis1_1'] = df3['Basis1_og'].str.split('to',expand= True)[0].str.replace('\\D','')\n",
    "    df3['Basis1_2'] = df3['Basis1_og'].str.split('to',expand= True)[1].str.replace('\\D','')\n",
    "except KeyError:\n",
    "    df3['Basis1_1'] = df3['Basis1_og']\n",
    "    df3['Basis1_2'] = None\n",
    "\n",
    "\n",
    "try:\n",
    "    df3['Change2_1'] = df3['Change2'].str.split('-',expand=True)[0]\n",
    "    df3['Change2_2'] = df3['Change2'].str.split('-',expand=True)[1]\n",
    "except KeyError:\n",
    "    df3['Change2_1'] = df3['Change2']\n",
    "    df3['Change2_2'] = None\n",
    "\n",
    "try:\n",
    "    df3['Change1_1'] = df3['Change1'].str.split(' ',expand=True)[0]\n",
    "    df3['Change1_2'] = df3['Change1'].str.split(' ',expand=True)[1]\n",
    "except:\n",
    "    df3['Change1_1'] = df3['Change1']\n",
    "    df3['Change1_2'] = None\n",
    "\n",
    "df3['Crop'] = crop_type \n",
    "\n",
    "df3['Date'] = pd.Timestamp.now() #this will be fine\n",
    "df3['Cash_Bids_1']= df3['Cash_Bids'].str.split('-', expand=True)[0]\n",
    "df3['Cash_Bids_2'] =df3['Cash_Bids'].str.split('-', expand=True)[1]\n",
    "\n",
    "df3['Contract'] = df3['Basis1_1'].str.replace('\\d','') \n",
    "df3['Month']= df3['Month'].str.strip('=')\n",
    "df3\n",
    "\n",
    "close = df3[['Month','Cash_Bids_1','Cash_Bids_2','Change1_1','Change1_2', 'Basis1_1','Basis1_2', 'Contract','Change2_1','Change2_2','Crop','Date' ]]\n",
    "close = close.fillna('NA')\n",
    "close"
   ]
  },
  {
   "cell_type": "code",
   "execution_count": null,
   "metadata": {},
   "outputs": [],
   "source": [
    "pickle.dump (close,open('jogr112_close_frame','wb'))\n"
   ]
  },
  {
   "cell_type": "code",
   "execution_count": null,
   "metadata": {},
   "outputs": [],
   "source": []
  },
  {
   "cell_type": "code",
   "execution_count": null,
   "metadata": {},
   "outputs": [],
   "source": []
  },
  {
   "cell_type": "code",
   "execution_count": null,
   "metadata": {},
   "outputs": [],
   "source": []
  },
  {
   "cell_type": "code",
   "execution_count": null,
   "metadata": {},
   "outputs": [],
   "source": []
  },
  {
   "cell_type": "code",
   "execution_count": null,
   "metadata": {},
   "outputs": [],
   "source": []
  },
  {
   "cell_type": "code",
   "execution_count": null,
   "metadata": {},
   "outputs": [],
   "source": []
  },
  {
   "cell_type": "code",
   "execution_count": null,
   "metadata": {},
   "outputs": [],
   "source": []
  },
  {
   "cell_type": "code",
   "execution_count": null,
   "metadata": {},
   "outputs": [],
   "source": []
  },
  {
   "cell_type": "code",
   "execution_count": null,
   "metadata": {},
   "outputs": [],
   "source": []
  },
  {
   "cell_type": "code",
   "execution_count": null,
   "metadata": {},
   "outputs": [],
   "source": []
  },
  {
   "cell_type": "code",
   "execution_count": null,
   "metadata": {},
   "outputs": [],
   "source": []
  },
  {
   "cell_type": "code",
   "execution_count": null,
   "metadata": {},
   "outputs": [],
   "source": []
  },
  {
   "cell_type": "code",
   "execution_count": null,
   "metadata": {},
   "outputs": [],
   "source": []
  },
  {
   "cell_type": "code",
   "execution_count": null,
   "metadata": {},
   "outputs": [],
   "source": []
  },
  {
   "cell_type": "code",
   "execution_count": null,
   "metadata": {},
   "outputs": [],
   "source": []
  },
  {
   "cell_type": "code",
   "execution_count": null,
   "metadata": {},
   "outputs": [],
   "source": []
  },
  {
   "cell_type": "code",
   "execution_count": null,
   "metadata": {},
   "outputs": [],
   "source": [
    "  "
   ]
  },
  {
   "cell_type": "code",
   "execution_count": null,
   "metadata": {},
   "outputs": [],
   "source": []
  },
  {
   "cell_type": "code",
   "execution_count": null,
   "metadata": {},
   "outputs": [],
   "source": []
  },
  {
   "cell_type": "code",
   "execution_count": null,
   "metadata": {},
   "outputs": [],
   "source": []
  },
  {
   "cell_type": "code",
   "execution_count": null,
   "metadata": {},
   "outputs": [],
   "source": []
  }
 ],
 "metadata": {
  "kernelspec": {
   "display_name": "Python 3",
   "language": "python",
   "name": "python3"
  },
  "language_info": {
   "codemirror_mode": {
    "name": "ipython",
    "version": 3
   },
   "file_extension": ".py",
   "mimetype": "text/x-python",
   "name": "python",
   "nbconvert_exporter": "python",
   "pygments_lexer": "ipython3",
   "version": "3.6.7"
  }
 },
 "nbformat": 4,
 "nbformat_minor": 2
}
